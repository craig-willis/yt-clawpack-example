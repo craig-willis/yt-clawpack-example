{
 "cells": [
  {
   "cell_type": "markdown",
   "id": "c5adc38d-064c-4bf0-b806-30defa5520ea",
   "metadata": {},
   "source": [
    "## Loading Clawpack Data with yt\n",
    "\n",
    "This notebook demonstrates how yt can be used to read, visualize, and analyze Clawpack simulation data. Since yt does not currently support Clawpack directly, we load the data via the generic `load_amr_grids` method."
   ]
  },
  {
   "cell_type": "code",
   "execution_count": 285,
   "id": "1ab99623-5c6d-4fd3-9298-91507183cd99",
   "metadata": {},
   "outputs": [],
   "source": [
    "import yt\n",
    "import numpy as np\n",
    "from clawpack.pyclaw.solution import Solution"
   ]
  },
  {
   "cell_type": "markdown",
   "id": "db85e9b2-bb44-4050-ae61-751700208fff",
   "metadata": {},
   "source": [
    "The following is based on https://github.com/clawpack/yt_tests/blob/master/burgers_3d_cubedata/yt_plots.ipynb\n"
   ]
  },
  {
   "cell_type": "code",
   "execution_count": 286,
   "id": "b129679c-e148-4a74-896a-5e8b45dea671",
   "metadata": {},
   "outputs": [],
   "source": [
    "def load_ds(frame,path='./output'):\n",
    "    \"\"\"\n",
    "    Load a frame of data and reformat for yt.\n",
    "    \"\"\"\n",
    "    sol = Solution(frame,path=path,file_format='ascii',file_prefix='fort')\n",
    "\n",
    "    grid_data = []\n",
    "\n",
    "    for state in sorted(sol.states, key = lambda a: a.patch.level):\n",
    "        patch = state.patch\n",
    "\n",
    "        # yt expects 3d data\n",
    "        left_edge = patch.lower_global + [0]\n",
    "        right_edge = patch.upper_global + [1]\n",
    "        dimensions = patch.num_cells_global + [1]\n",
    "        \n",
    "        d = {\n",
    "            'left_edge': left_edge,\n",
    "            'right_edge': right_edge,\n",
    "            'level': patch.level - 1,  # AMR level - 1\n",
    "            'dimensions': dimensions,\n",
    "            'depth': (state.q[0,...,np.newaxis], \"m\"), # Add 3rd dimension\n",
    "            'velocity': (state.q[1,...,np.newaxis], \"m/s\"), # Add 3rd dimension\n",
    "            }\n",
    "        grid_data.append(d)\n",
    "                \n",
    "    domain = [200, 28, 1]   \n",
    "    bbox = np.array([[-10,140], [-6,8], [0,1]])\n",
    "    return yt.load_amr_grids(grid_data, domain, bbox = bbox, refine_by=5, parameters = {})"
   ]
  },
  {
   "cell_type": "markdown",
   "id": "fe2f0a16-cce4-42fd-9f4f-3202e3ad8c11",
   "metadata": {},
   "source": [
    "Load the data from one frame/timestep into yt. The underling "
   ]
  },
  {
   "cell_type": "code",
   "execution_count": 287,
   "id": "1b5d99f4-1c60-411f-9b2b-1d5976d0fa91",
   "metadata": {},
   "outputs": [
    {
     "data": {
      "text/plain": [
       "StreamDataset: AMRGridData"
      ]
     },
     "execution_count": 287,
     "metadata": {},
     "output_type": "execute_result"
    }
   ],
   "source": [
    "ds = load_ds(4)\n",
    "ds"
   ]
  },
  {
   "cell_type": "markdown",
   "id": "fbf4c566-e135-4b95-8b86-cfa1bd00144a",
   "metadata": {},
   "source": [
    "Inspect the field list"
   ]
  },
  {
   "cell_type": "code",
   "execution_count": 288,
   "id": "1ed2c081-ff24-4499-a096-8f755809a69c",
   "metadata": {},
   "outputs": [
    {
     "data": {
      "text/plain": [
       "[('stream', 'depth'), ('stream', 'velocity')]"
      ]
     },
     "execution_count": 288,
     "metadata": {},
     "output_type": "execute_result"
    }
   ],
   "source": [
    "ds.field_list"
   ]
  },
  {
   "cell_type": "markdown",
   "id": "b13b2687-817b-403d-ad1c-aabdfb4cdea5",
   "metadata": {},
   "source": [
    "Inspect the maximum refinement level. Recall that this is (AMR level - 1)"
   ]
  },
  {
   "cell_type": "code",
   "execution_count": 289,
   "id": "d0ea3e25-4f79-4e38-b119-e8719c09d20d",
   "metadata": {},
   "outputs": [
    {
     "data": {
      "text/plain": [
       "1"
      ]
     },
     "execution_count": 289,
     "metadata": {},
     "output_type": "execute_result"
    }
   ],
   "source": [
    "ds.max_level"
   ]
  },
  {
   "cell_type": "code",
   "execution_count": 290,
   "id": "439a334e-9380-4dc1-a60d-da8b9e4cf305",
   "metadata": {},
   "outputs": [
    {
     "data": {
      "text/html": [
       "<img style=\"max-width:100%;max-height:100%;\" src=\"data:image/png;base64,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\"><br>"
      ],
      "text/plain": [
       "<yt.visualization.plot_window.AxisAlignedSlicePlot at 0x7f2a1f2871c0>"
      ]
     },
     "metadata": {},
     "output_type": "display_data"
    }
   ],
   "source": [
    "field=(\"stream\", \"depth\")\n",
    "p = yt.SlicePlot(ds, \"z\", field, origin=\"native\", fontsize=10)\n",
    "p.set_cmap(field=field, cmap=\"afmhot_r\")\n",
    "p.set_log(field, False)\n",
    "p.set_xlabel(\"\")\n",
    "p.set_ylabel(\"\")\n",
    "p.show()"
   ]
  },
  {
   "cell_type": "markdown",
   "id": "24dc96a1-c414-4942-80ac-0fd3b2260235",
   "metadata": {},
   "source": [
    "From here we can find the field maximum, [select or filter data](https://yt-project.org/doc/analyzing/objects.html)"
   ]
  },
  {
   "cell_type": "code",
   "execution_count": 193,
   "id": "d641b643-895d-4b43-aaeb-dc40bcf32567",
   "metadata": {},
   "outputs": [
    {
     "data": {
      "text/plain": [
       "(unyt_quantity(0.20608137, 'm'),\n",
       " unyt_array([30.125,  1.65 ,  0.5  ], 'code_length'))"
      ]
     },
     "execution_count": 193,
     "metadata": {},
     "output_type": "execute_result"
    }
   ],
   "source": [
    "ds.find_max(\"depth\")"
   ]
  },
  {
   "cell_type": "code",
   "execution_count": 283,
   "id": "542412ae-4c0c-4029-bf73-90d9a88c86cf",
   "metadata": {},
   "outputs": [
    {
     "data": {
      "text/plain": [
       "unyt_array([0.18438657], 'm')"
      ]
     },
     "execution_count": 283,
     "metadata": {},
     "output_type": "execute_result"
    }
   ],
   "source": [
    "ds.point([20,1,0])[field]"
   ]
  },
  {
   "cell_type": "code",
   "execution_count": 257,
   "id": "fa304809-179a-481f-96fe-7a6df2667e13",
   "metadata": {},
   "outputs": [
    {
     "data": {
      "text/html": [
       "<img style=\"max-width:100%;max-height:100%;\" src=\"data:image/png;base64,iVBORw0KGgoAAAANSUhEUgAABAcAAACkCAYAAADrA0cRAAAAOXRFWHRTb2Z0d2FyZQBNYXRwbG90bGliIHZlcnNpb24zLjcuMSwgaHR0cHM6Ly9tYXRwbG90bGliLm9yZy/bCgiHAAAACXBIWXMAAA9hAAAPYQGoP6dpAAAhDUlEQVR4nO3de3BU9f3/8dcmJLuhJIHILUIkZLhGoBVIuPy4iRccUMBRkYKFYUScmkkdINiiReArGK1lpMBWAUdaL9ABZcQiKi2DQ5AUqU4lXkALC0kAuXhJwm2T7J7fHyTbJCQxhuzZ3XOej5kdcs7Z5P3Z88mJntf5nM9xGIZhCAAAAAAA2FZUqBsAAAAAAABCi3AAAAAAAACbIxwAAAAAAMDmCAcAAAAAALA5wgEAAAAAAGyOcAAAAAAAAJsjHAAAAAAAwOYIBwAAAAAAsDnCAQAAAAAAbI5wAAAAAAAAmyMcAAAAAADA5ggHAAAAAACwOcIBAAAAAABsjnAAAAAAAACbaxXqBgAAAAAA0JDvvvtOGzZs0I4dO3TkyBFFRUWpVatWio+P19ixYzV16lQNGjQo1M2MeA7DMIxQNwIAAAAAgLr+/Oc/68CBA7rrrrs0evRoXXfddYFtlZWVOnDggHbs2KFz585p2bJltbbjpyEcAAAAAACEnRUrVmjUqFHKyMj40feWlZXp+eef1yOPPKL27dub0DrrIRwAAAAAAISdc+fONXqiX1FRIa/XqzZt2gTWffvtt4weaCYmJAQAAAAAhJ36goFZs2bppZdeUlFRkfr06aNZs2bp5ZdfDmwnGGg+wgEAAAAAQES44447NHv2bD3//POaMmWKtmzZIr/fH+pmWQJPKwgyv9+vkydPKj4+Xg6HI9TNAQAAAGBhhmHo7Nmzat++vaKizL0WHBsbK5fLVe+27du3KycnRydPntS4ceO0bt06tWvX7ifXaNXqyinshx9+qBUrVkiSWrdu3fxGI4BwIMhOnjyplJSUUDcDAAAAAIKqc+fO8ng8VwUEHo9H27Zt0xtvvKFDhw5pzpw5+t3vfqe1a9f+5BqFhYV6+eWX9c0332jYsGE6ePCgjh492lIfwdYIB4IsPj5eklRUVKSEhISg18vIyNCBAweCXqe0tFQpKSmmfC6zPpMVa5nZT5L19p+ZdazaV1b8neDvX2TUsuoxZWYtKx5TkvX2n5m1+PsXGbUOHz6szMxMOYNapX7ffPONysvLrwoH8vLytGbNGjmdTvXr108FBQV64403mlVj+vTpevXVV7Vz504dO3ZMb731FiMHWgjhQJBV30qQkJBgyn/woqOjTalTzYzPZeZnsmotK/7+mVXLiseUZM39Z8W+sur+4+9fZNSy4jElWXP/WbGvrLr/zKhVPXN/rKRg3tRc95F3hiRvA++dMWNGreXOnTvrhhtu+NEaly9fvipo6Nixo+bPnx9YfvLJJ5vQWjQF4YDFZGVlhboJLc7Mz2TVWmax4v6zYj9J1tx/Vuwrq+4/+ioyalmxnyRr7j8r9pVV95+ZtZwK7uzz5yVdbOb3fvLJJ5ozZ86Pvu+zzz7Thg0bdP3112v69OlKTU1tZkU0hcMwjLqhD1pQaWmpEhMTVVJSYmqiG2xW/VxWQz9FDvoqctBXkYF+ihz0VeSgryLDl19+qfT0dF2v4IYDhmqPHvBL+kb60d+PU6dO6fHHH9eGDRuaXOvUqVN6/fXX5fF4NHjwYN13332BERJoOYwcQLM4nU4tXrxYTmco7mZCU9FPkYO+ihz0VWSgnyIHfRU56KvIUN0/sTL3ufVNeZigz+fTypUrtXr16p/0s5OTk5WTkyNJ+vjjj7Vs2TJ5vV5NmDBBt956azNai/owciDIqhPWXr16KTo6WllZWZYc+gUAAAAgdNxut9xut8rLy3XkyBH1lhRtYn2fpMNqfOTAihUr9MADD6hTp06SpPLycsXGxjarXkVFhd555x3985//VFJSkqZNm6Y+ffo0s/WQCAeCjuFXAAAAAMxSXFyslJQU9Zf54UCBGg4HVq5cqbS0NPXq1UuSdOTIEfl8Pk2cOPGaa3/77bfauHGjvvjiC910001Nms8AV+O2AgAAAACwGKfMPdmrbGTb5s2bNW/ePNW8Lt26dWudPn26RWpfd911ys7OliR5PJ4W+Zl2ZOZtKAAAAAAAE8SG4NWQKVOmyO/3yzCMwOvChQstNqngV199Ffi6e/fuLfIz7YiRAwAAAABgMS6Fz8iBlvbFF1/o3LlzgeU1a9Zo8+bNJrbAmggHWlBxcbG6du1a77aMjAwmJAQAAAAQFDUnJJSkmKqXWRwm1ZkzZ44OHjyouLi4wLovv/zSpOrWxoSE18AwDPXp0ycwjGXs2LHatWtXrfcwISEAAAAAs1RPSHiXzA0HKiT9XY0/raAlbNiwQbNmzaq1zu12cwG2BTBy4Bq8++67ys7O1tChQyVJaWlpIW4RAAAAAFy5rcDMcMCsJyM4HFePURg0aJBJ1a2NcOAarFmzRnfeeac6dOigbt26hbo5AAAAACDpSjDQ2CSBkernP/+5srOzNXDgQEVHX4kkXnvtNe3cuTPELYt8hAPNVFZWJq/Xq0WLFik7O1uPPPKIVq1aVW+SJV25vaAmp9Mpp9NpRlMBAAAAWJTX65XX6w0sl5WVSboycsDMcMCsx+A99dRT8vl8On/+fGDd8ePHTapubYQDzRQfH69du3apoqJCL774oubOnasePXro0Ucfrff9KSkptZYXL16sJUuWmNBSAAAAAFaVm5urpUuXXrXe7JEDZk1kN2nSJM2cObPWuo0bN5pU3doIB65RTEyMsrOzdebMGW3cuLHBcKCoqKjWxByMGgAAAABwrRYuXKh58+YFlk+cOKH09HS5JJl5xmHW0wrqG6mdlJRkUnVrIxxoIZMmTdKWLVsa3J6QkMDTCgAAAAC0qLq3K1ffzhwra44cOHr0qO66665acw5s375dd9xxh0ktsC7CgRZSWVmp3r17h7oZAAAAAKAYhxRr1uV8SX5DpiQEW7du1eTJkxUVFSXDuFKw+l9cG8KBZtqzZ48KCws1ffp0ORwOrV27VgsWLAh1swAAAABArjjJZWI4IEPSxeCXeeaZZzR+/Pha66ofLY9rQzjQTMXFxZo7d642bdqkoUOHaubMmRoxYkSomwUAAAAAio0xZ+RAnlfa660aOdDCDh06JJfLpdTU1MC6usGAJI0bNy7w9XvvvcctBs3kMBiDEVSlpaVKTExUr169FB0draysLGVlZYW6WQAAAAAsxO12y+12q7y8XEeOHNHznaQ4s54vKOmSX5p7WiopKWnRudZWrVqlDh06aOrUqQ0+Nl6Szpw5ozVr1ujuu+/WTTfd1GL17YRwIMiqw4GWPkgAAAAAoK7i4mKlpKTInWJ+OJBV1PLhgCT94x//0KpVq5SSkqKMjAx17NhRcXFx+v7771VYWKi8vDx17NhRixYtUpcuXVq0tp1wWwEAAAAAWIwzVnJFm1fP7wvez77tttt02223qaCgQLt27dLnn3+u8+fPq0OHDurTp4/Wr1+v6667LngNsAnCAQAAAACwmFinFGtiOFAZxHCgWv/+/dW/f//gF7IpwgEAAAAAsJjYGJPDARNvYUBwEA6YJCMjgwkJAQAAAARFzQkJJcnpklwmnu35Ks2rheBgQsIgY0JCAAAAAGapnpDwnZHSz0wMBy5UShPygjMhIczByAEAAAAAsBiXU3LFmFfPV2FeLQQH4QAAAAAAWExM7JV5B8xS7jCvFoKDcAAAAAAALMblMnfkQKWJkx8iOAgHTGLuhIT+er6u+2/1s0aMerbX9z2+qn+NGu+p+/JVba+sWq6sWuersVz9b2WN5Yoa762s5+W9ss2olCqrXxVXnpdS7q1a9v1vW7m3xnKFVF5R4/tqfG9lzfW+Rrf7KiW/v86PqVpXUXllApbKet5TvVxRKRl1tvn8tb+vvp9T38+rfl/NPemrsfdq7tGm9EZFnR6u+d76erx6xJi/zvbGfnuq1XzCTc31P/ZbWLNtNSdJcUj6maQ2kjpKukFSZpQ0apQ0evzPpIkTpd73Shoo6XpJsQIAALCiuhMSxsRIsSb+r4+JOQSChHDAJAcOHGBiDgAAAABBUX0RsnpCwtgYc28riGWa+4hHOAAAAAAAFuOKk1wmjhyoMOm2Ap/Pp+ho7mEIBsIBAAAAALAY028rMGnkwIwZM/T666+bU8xmCAcAAAAAwGJcriuPMzSLWU8r+PDDD/Xss8+qX79+Gj9+vBwOHpPQUggHAAAAAMBiYmPNHTlg1pwDu3fvVvfu3XXkyBG9+OKLio6O1oQJE9SlSxdzGmBhhAMmMfdpBQAAAADspO7TChyxsXI4zbuq7jAMSeVBr1M9yXvbtm114cIFrV+/Xi+99JJmzpypG2+8UWPGjAl6G6yKcKCZjh8/rtzcXA0YMED79u3T8uXL1a1btwbfz9MKAAAAAARL3acVyBkrmRAOuPeWy72vQj6/OUMH7rvvPnXq1Ek7d+7UPffco9dff12DBw+WJB06dEibNm3SL3/5S1PaYjWEA83g9/s1ceJEPf/88xo7dqx69uypqVOnKj8/P9RNAwAAAICqGQmjgl4ma2ysssZKpZf8Snzs+6DX+/LLLzVlyhStW7dO8fHxtbYVFRXJ4/EEvQ1WRTjQDO+//76+/vprjRw5UpI0duxYTZ48WR999JEyMzND3DoAAAAAtudySa7ghwMBht+UMk8//bRmzZpV77YDBw4oMTHRlHZYEeFAM+Tn56t79+6KiYmRJEVHRystLU0ffPBBg+FAaWlprWWn0ymn08TpQwEAAABYjtfrldfrDSyXlZVd+SI21pSRAwE+c8KBmnMK5Ofn66uvvtLtt9+u5ORkPf7446a0waoIB5rh9OnTV80fkJiYqOLi4ga/JyUlpdby4sWLtWTJkmA0T1JUA19HOIekmKqXyaKrXiEoDQAAADQoNzdXS5cuvXpDrFNyRpvXEJ/PlDJbtmzRY489JkkaNmyYhg0bJrfbzaTvLYBwoBliYmICowaq+f1+GUbDk3AUFRXVChQYNQAAAADgWi1cuFDz5s0LLJ84cULp6elVExJaIxz49NNP9emnn0qSPv74Y73yyiuBbSUlJdq7dy/hQAsgHGiG5ORk5eXl1VpXUlLS6LM1ExISeFoBAAAAgBZV93blwO3MTqfkMvF0z1cZtB/dr18/tWrVSo8//rhOnDih3bt3B7bFx8dr8eLFQattJ4QDzTB69Gg9++yzMgxDDodDFRUV8ng8PFMTAAAAQHiIjZViTTzdqwje7czR0dG68cYbtWHDBu3YsUMPPPBA0GrZmYVuSDfP8OHD1aVLl8DogT179igtLU1DhgwJccsAAAAAQFXhgMmvIEtKSqo3GPjXv/4V9Np2wMiBZoiKitK2bdu0bNkyFRQUKD8/X1u3bpXD4WjwezIyMhQdHa2srCzuhwEAAADQotxut9xut8rLy6+scDoll4nTaVdWBO1Hv/rqq7r11luVnJys5557TpcuXaq1fceOHQQELcBhNDaLHq5ZaWmpEhMTVVJSwpwDAAAAAIKquLhYKSkpKvnwTiW0MS8cKD1focT/tz0o5z0ZGRlasmSJJkyYoCFDhmjcuHGKjv7fZIvbt2/XgQMHWrSmHTFyAAAAAACsxuUyeeRA8J6MUPPE/+mnn9Ytt9xSa3tmZmbQatsJcw4AAAAAgNXExJg730CMOUGEy+XS6tWrA8ubN29W//79TaltdYwcAAAAAACrcbokZ/AnCQwoN+e68/bt2xUXFxdYnjJlitatW6c5c+aYUt/KCAcAAAAAwGpiY80NB7zmlOnRo4cefPDBWuuiohgQ3xLYiybJyMhQenq63G53qJsCAAAAwGLcbrfS09M1ZsyYKytiTb6tINac2woOHjyos2fPBpaLi4u1d+9eU2pbHU8rCDKeVgAAAADALIGnFXybo4QEp2l1S0u9Srzuj0E/78nPz9c999yjbt26yTAMeTwevfnmmxoxYkTQatoFtxUAAAAAgNW0ipFamXhbQSu/KWWGDRumjz/+WFu3bpXf79fdd9+trl27mlLb6ggHAAAAAMByXFWv4HK798ntzpfPZ044IEkxMTFq1aqVysvL1aoVp7QthdsKgozbCgAAAACYJXBbQUmuEhKCHw5UKy29rMTEhUE/7/nkk080ffp0de7cWRUVFSosLNSbb76pjIyMoNW0C2IWk2RkZCg6OlpZWVnKysoKdXMAAAAAWIjb7Zbb7VZ5eXnVGqfMGDnwP+Zcc3777bd18OBBxcRcmQDx0qVLWr58OeFACyAcMMmBAwcYOQAAAAAgKKovQlaPHJBiq15m8ZlSpWfPnoFgQJLi4uJ0ww03mFLb6ggHAAAAAMByrBkOHD169Kp1p0+fNqW21REOAAAAAIDlmH1bgTkTEo4aNUrDhw9Xenq6vF6vPv/8cz399NOm1LY6wgEAAAAAsByzRw5UmlJl9OjR2rBhg1577TVduHBB69ev16BBg0ypbXWEAyZhQkIAAAAAwRL6CQnNua1Aknr37q2nnnoqsLxz507dfvvtptW3Kh5l2EKKi4vVtWvXq9bzKEMAAAAAZvnfowy3KyHhZ6bVLS29oMTEO1v8vOfixYv64x//2Oh73nnnHe3fv7/FatpVVKgbEKkMw1Dv3r3lcDjkcDg0c+bMUDcJAAAAAKq4QvBqeQ6HQ5s2bZLf75dhGPW+/H5z5juwOm4raKZ3331X2dnZGjp0qCQpLS0txC0CAAAAgGoxMnfOgfIff0szxMXFacWKFRo/fnyD76k+J8O1YeRAM61Zs0ZRUVHq0KGDBg8erKSkpFA3CQAAAACqxIbgFRw1g4HS0lItXLgwcKvBunXrlJmZGbTadkI40AxlZWXyer1atGiR0tLSlJ2drR+buqG0tLTWy+v1mtRaAAAAAFbl9XprnWeUlZVVbamekNCslzPon1WSFixYoOTk5MC8Bg899JBeffVVU2pbHeFAM8THx2vXrl365ptvtHLlSr3wwgtatWpVo9+TkpKixMTEwCs3N9ek1gaH1+vVkiVLCDnCHP0UOeiryEFfRQb6KXLQV5GDvgpPubm5tc4z0tPTq7ZYZ+RATaNGjdJvfvMbderUSdKVOQmcTnOCCavjaQUtYNGiRdq5c2e9M2RWP62gqKio1qydTqczon+JeQpDZKCfIgd9FTnoq8hAP0UO+ipy0Ffhyev11gpsDh8+rMzMTJWU/FcJCfGmtaO0tEyJiT0a/P04fvy4cnNzNWDAAO3bt0/Lly9Xt27dfnKdZ599Vr/97W/19ttva+LEifJ6vZo/f77WrFnTEh/D1hg5UMepU6fUvn37Bl/Z2dlXfc+kSZNUUlLS6M9NSEio9QpWMOB2u4Pyc0PJzM9k1VpmseL+s2I/Sdbcf1bsK6vuP/oqMmpZsZ8ka+4/K/aVVfdfMGo5nc5a5xlt2rSp2lI9IaFZr5gG2+j3+zVx4kRNmTJFjzzyiGbOnKmpU6c26/OmpqZq+PDhcrvduv/++9WjRw9NmjSpWT8LdRi4Zvn5+cbEiRPr3VZSUmJIMkpKSkxpS9++fU2pY+bnMuszWbGWVX//zKxlxWPKMKy3/8ysxd+/yKhl1WPKzFpWPKYMw3r7z8xa/P2LjFpffPFFVT+dNgzjkmmvkpLTDf5+7Nixw4iLizPKy8sNwzCMyspKo3Xr1sb+/fub9Jl++OGHWsv79+835s6da+Tk5BgHDx5s4p7Bj+FRhs2wZ88eFRYWavr06XI4HFq7dq0WLFhQ73uNqrs2SktLTWmbz+czpVZ1DTNqmfWZrFjLzH6SrLf/zKxj1b6y4u8Ef/8io5ZVjykza1nxmJKst//MrMXfv8iodf78eUlSaellBXMegLq3M/xvIsSr5efnq3v37oqJuTK6IDo6Wmlpafrggw+a9KSB+fPn66WXXgosZ2Zm8oSCIGDOgWbYuHGjHn30UWVmZmro0KEaOXKkxowZU+97i4uLlZKSYm4DAQAAAMBkbdq00dmzZ+VyuWqtf/jhh3Xw4EHl5+cH1o0YMUIDBw780YndJSkuLk4LFy7UjBkzlJqa2tLNRhVGDjTDtGnTNG3atCa99/rrr1dRUZHi4+PlcDiC3DIAAAAAdmYYhs6ePav27dsrKip4U8zVHTkgXXmqW91gQJJiYmICowaq+f3+H30cfLUnnnhC8+bN06ZNm+TxeDR06FBNmDCB86sWRjgQZFFRUeratWuomwEAAADAJhITE0PdhFqSk5OVl5dXa11JSYm6dOnSpO///e9/L0l68MEHJUkfffSRlixZonbt2mnatGnq2LFjyzbYpnhaAQAAAAAgaEaPHi2PxxMYKVBRUSGPx9Pgrdk/JjMzU0uXLlVqaqr69++vX/3qVy3YWvsiHAAAAAAABM3w4cPVpUuXwOiBPXv2KC0tTUOGDGnS99e8feH8+fNyu93q37+/7r//fo0ePVqzZ88OSrvthtsKAAAAAABBExUVpW3btmnZsmUqKChQfn6+tm7d2uQ5A5566indd999euGFF7Rx40a1bdtWDz30kB566CF17tw5yK23D55WgJ/k+PHjys3N1YABA7Rv3z4tX75c3bp1C3WzUGX79u3KycnRyZMnNW7cOK1bt07t2rWj38LUxYsXNXjwYO3YsUOpqan0Uxj77LPP9NZbbyk1NVWTJ09WmzZtQt0k1LF37169//77SkpK0r///W8tWrRIffr04bgKI5cvX5bX6w27e6FxNfoqMtipn2JiYmQYhm699Vb9+te/1l133RXUyRZtywCayOfzGQMGDDB27dplGIZh7Ny50xg6dGiIW4VqR48eNWbPnm0UFBQYW7ZsMdq1a2fMmTOHfgtjzzzzjCHJ8Hg89FMY+9Of/mSMGDHCOHHiRGDdsWPHjIcffthwu93G9OnTjWPHjoWwhaisrDTS0tKMiooKwzAMY/fu3cYtt9zCcRUmfD6f8Ze//MVISUkxdu/eHVjf2HHEMRYaDfXV3//+d6N3795GfHy8ce+99xrfffddYBt9Zb6G+qnahQsXjL59+xoejyewLtL7afjw4cZ///vfUDfD8ggH0GQ7duww4uLijPLycsMwrvzPWOvWrY39+/eHuGUwDMP461//aly+fDmw/OSTTxrp6en0W5h66623jP379wfCAfopPG3ZssXo2LGjcebMmcA6TjjDz5kzZwyXy2WUlpYahmEY//nPf4yBAwdyXIWJM2fOGIWFhYakwIlMY8cRx1jo1NdXDV18MAz6KlTq66eaal58MAxr9NMrr7wS6ibYAmMx0GT5+fnq3r174Bml0dHRSktL0wcffBDahkGSNGPGDDmdzsBy586ddcMNN9BvYaiwsFCnTp1SZmZmYB39FH4qKio0d+5c5eTkqEOHDoH177//vr7++muNHDlSkjR27FgdPHhQH330UaiaansdOnTQoEGDNGPGDJWWlmrVqlX6v//7P46rMNGhQwelpKTUWtfYccQxFjr19VVeXp7WrFmjfv366d5771V2drb27t0rib+HoVJfP1Xbtm2bbr755lrrrNBPPI3AHIQDaLLTp08rISGh1rrExEQVFxeHqEVozCeffKI5c+bQb2HG5/Np/fr1mjNnTq319FP42bNnj4qLi3X48GFNnjxZffv21d/+9jdOOMPUli1bdPjwYSUnJ+v222/XhAkTOK7CWGPHEcdYeGno4oNEsB1u6rv4INFPaDqeVoAmi4mJCfxRqeb3+wPPK0X4OHXqlCorK3X33Xdr165d9FsYcbvdevjhh6+aRIfjK/wUFBSobdu2+sMf/qCkpCS99957mjhxom6++WZOOMPQ6dOnNX78eB0/flwzZ85U27ZtOa7CWGPBjdfr5RgLY9UXHySC7XBSffFh6dKlV22jn9BUjBxAkyUnJ6ukpKTWupKSEnXp0iVELUJ9fD6fVq5cqdWrV0ui38LN6tWr1aNHD7lcLrlcLklS7969tXbtWvopzFy6dEl9+/ZVUlKSJOmOO+5Qp06dtHfvXk44w8zFixf1wAMPaNmyZdqyZYvmz5+vBx98kL9/Yayx4IZQJ3zVvPggEWyHk4YuPkj0E5qOcABNNnr0aHk8nsAfkoqKCnk8Ho0ZMya0DUMtK1eu1Lx58wKPWhs5ciT9Fka+/vprXb58OfCSpMOHD2v37t30U5jp3LmzLly4UGtd165d9dhjj3HCGWY+++wzxcfHBwK3pUuXqqysTKNGjeK4ClONBTeEOuGp7sUHiQsQ4aShiw8LFiygn9BkhANosuHDh6tLly7Ky8uTdOV+3LS0NA0ZMiTELUO1lStXqmfPnvr+++916NAhvfPOO/rhhx/otwjA8RV+RowYoWPHjqmysjKw7vLly3I4HJxwhpkePXroxIkTgTCnvLxcycnJHFdhrLELDlyMCE91Lz6Ul5fTV2GkoYsPzz33HP2EJmPOATRZVFSUtm3bpmXLlqmgoED5+fnaunWrHA5HqJsGSZs3b9a8efNqDRFr3bq1Tp8+Tb9FAI6v8NOzZ0/94he/0M6dOzV+/Hh99913OnfunHJycrRp0ybl5eVp1KhRnHCGgaSkJK1fv17Z2dnq37+/Tp48qddee03R0dEcV2HC7/fXWq4Z3NQ9jgzDaHAbgq9uX0m1Lz58//33OnLkiHw+n+688076KkTq66eGNHa8ATU5DG42AQCgXoWFhcrJydHAgQPl8Xg0a9YsDR06VF999ZWWLVumIUOGKD8/X08++aR69eoV6uYCYens2bNav369nnjiCc2ePVs5OTnq3bt3o8cRx1ho1NdXn376qaZOnVrvxYc2bdrQVyHQ0DFVU/Uot9TUVEkcU2gawgEAAAAAAGyOOQcAAAAAALA5wgEAAAAAAGyOcAAAAAAAAJsjHAAAAAAAwOYIBwAAAAAAsDnCAQAAAAAAbI5wAAAAAAAAmyMcAAAAAADA5ggHAAAAAACwOcIBAAAAAABsjnAAAAAAAACbIxwAAAAAAMDmCAcAAAAAALA5wgEAAAAAAGyOcAAAAAAAAJsjHAAAAAAAwOYIBwAAAAAAsDnCAQAAAAAAbI5wAAAAAAAAmyMcAAAAAADA5ggHAAAAAACwOcIBAAAAAABsjnAAAAAAAACbIxwAAAAAAMDmCAcAAAAAALA5wgEAAAAAAGyOcAAAAAAAAJsjHAAAAAAAwOYIBwAAAAAAsDnCAQAAAAAAbI5wAAAAAAAAmyMcAAAAAADA5ggHAAAAAACwOcIBAAAAAABsjnAAAAAAAACbIxwAAAAAAMDmCAcAAAAAALA5wgEAAAAAAGyOcAAAAAAAAJsjHAAAAAAAwOYIBwAAAAAAsDnCAQAAAAAAbI5wAAAAAAAAmyMcAAAAAADA5ggHAAAAAACwOcIBAAAAAABsjnAAAAAAAACbIxwAAAAAAMDmCAcAAAAAALC5/w95rPbn32DvqgAAAABJRU5ErkJggg==\"><br>"
      ],
      "text/plain": [
       "<yt.visualization.plot_window.AxisAlignedSlicePlot at 0x7f2a1f1684f0>"
      ]
     },
     "metadata": {},
     "output_type": "display_data"
    }
   ],
   "source": [
    "field=(\"stream\", \"velocity\")\n",
    "p = yt.SlicePlot(ds, \"z\", field, origin=\"native\", fontsize=10)\n",
    "p.set_cmap(field=field, cmap=\"afmhot_r\")\n",
    "p.set_log(field, False)\n",
    "p.set_xlabel(\"\")\n",
    "p.set_ylabel(\"\")\n",
    "p.show()"
   ]
  },
  {
   "cell_type": "code",
   "execution_count": 284,
   "id": "b9809f4b-c33b-4db0-9195-22ffc0640d11",
   "metadata": {},
   "outputs": [
    {
     "data": {
      "text/plain": [
       "(unyt_quantity(2.08697355, 'm/s'),\n",
       " unyt_array([30.125,  1.95 ,  0.5  ], 'code_length'))"
      ]
     },
     "execution_count": 284,
     "metadata": {},
     "output_type": "execute_result"
    }
   ],
   "source": [
    "ds.find_max(\"velocity\")"
   ]
  },
  {
   "cell_type": "markdown",
   "id": "359d919b-7507-4256-91ea-1238b122e478",
   "metadata": {},
   "source": [
    "## Where can we go from here?\n",
    "\n",
    "This example uses [load_amr_grids](https://yt-project.org/doc/examining/loading_data.html?highlight=load_amr_grid#generic-amr-data) to load generic AMR data into memory. yt is designed to support more efficient data access by [loading data via functions](https://yt-project.org/doc/examining/loading_via_functions.html#loading-via-functions) or through the development of a custom [frontend](https://yt-project.org/doc/developing/creating_frontend.html). Among other things, this would enable use of yt's [time series analysis](https://yt-project.org/doc/analyzing/time_series_analysis.html#time-series-analysis) capabilities to analyze the entire simulation.\n",
    "\n",
    "Some ideas:\n",
    "* Write a custom function to load data when accessed: as above, but more efficiently access AMR data via lazy-loading\n",
    "* Create [DatasetSeries](https://yt-project.org/doc/reference/api/yt.data_objects.time_series.html#yt.data_objects.time_series.DatasetSeries) based on the existing stream frontend to enable analysis of multiple frames/timesteps.\n",
    "* Write a new [frontend](https://yt-project.org/doc/developing/creating_frontend.html) for Clawpack\n"
   ]
  },
  {
   "cell_type": "code",
   "execution_count": null,
   "id": "32236b3d-52b3-4430-b714-72d4794c40a0",
   "metadata": {},
   "outputs": [],
   "source": []
  }
 ],
 "metadata": {
  "kernelspec": {
   "display_name": "Python 3 (ipykernel)",
   "language": "python",
   "name": "python3"
  },
  "language_info": {
   "codemirror_mode": {
    "name": "ipython",
    "version": 3
   },
   "file_extension": ".py",
   "mimetype": "text/x-python",
   "name": "python",
   "nbconvert_exporter": "python",
   "pygments_lexer": "ipython3",
   "version": "3.8.13"
  }
 },
 "nbformat": 4,
 "nbformat_minor": 5
}
